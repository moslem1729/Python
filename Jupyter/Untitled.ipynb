{
 "cells": [
  {
   "cell_type": "code",
   "execution_count": 6,
   "id": "4e24509c",
   "metadata": {},
   "outputs": [],
   "source": [
    "class Book:\n",
    "    def __init__(self,title,author,book_title,pages):\n",
    "        self.title=title\n",
    "        self.author=author\n",
    "        self.book_title=book_title\n",
    "        self.pages=pages\n",
    "    def __repr__(self):\n",
    "        return f\"The title is {self.title}\" \n",
    "        "
   ]
  },
  {
   "cell_type": "code",
   "execution_count": 7,
   "id": "ae2ca5ab",
   "metadata": {},
   "outputs": [],
   "source": [
    "b=Book(\"Antifragile\",\"Nasim Taleb\",\"Hardcover\",\"519\")"
   ]
  },
  {
   "cell_type": "code",
   "execution_count": 8,
   "id": "ccd4bd10",
   "metadata": {},
   "outputs": [
    {
     "data": {
      "text/plain": [
       "The title is Antifragile"
      ]
     },
     "execution_count": 8,
     "metadata": {},
     "output_type": "execute_result"
    }
   ],
   "source": [
    "b\n"
   ]
  },
  {
   "cell_type": "code",
   "execution_count": null,
   "id": "441aefe9",
   "metadata": {},
   "outputs": [],
   "source": []
  }
 ],
 "metadata": {
  "kernelspec": {
   "display_name": "Python 3 (ipykernel)",
   "language": "python",
   "name": "python3"
  },
  "language_info": {
   "codemirror_mode": {
    "name": "ipython",
    "version": 3
   },
   "file_extension": ".py",
   "mimetype": "text/x-python",
   "name": "python",
   "nbconvert_exporter": "python",
   "pygments_lexer": "ipython3",
   "version": "3.10.5"
  }
 },
 "nbformat": 4,
 "nbformat_minor": 5
}
